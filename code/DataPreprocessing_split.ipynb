{
 "cells": [
  {
   "cell_type": "code",
   "execution_count": 2,
   "metadata": {},
   "outputs": [
    {
     "name": "stdout",
     "output_type": "stream",
     "text": [
      "Start spliting...\n",
      "2021-12-03 10:17:34\n",
      "Finish spliting!\n",
      "2021-12-03 10:18:12\n"
     ]
    }
   ],
   "source": [
    "# -*- coding:utf-8 -*-\n",
    "from datetime import datetime\n",
    " \n",
    "def Main():\n",
    "    source_dir = r'C:\\Users\\lenovo\\Desktop\\[DPW2] Group Project\\BigText\\cbtest_P_train.txt'\n",
    "    target_dir = 'split/'    #to store the txts after spliting\n",
    " \n",
    "    #counter\n",
    "    flag = 0\n",
    " \n",
    "    #name index\n",
    "    name = 1\n",
    " \n",
    "    #to store the data\n",
    "    dataList = []\n",
    " \n",
    "    print(\"Start spliting...\")\n",
    "    print(datetime.now().strftime('%Y-%m-%d %H:%M:%S'))    #start time\n",
    " \n",
    "    with open(source_dir,'r') as f_source:\n",
    "        for line in f_source:\n",
    "          flag+=1\n",
    "          dataList.append(line)\n",
    "          if flag == 5000:    #split each 5000 lines into a file\n",
    "              with open(target_dir+\"ChildrenBook_\"+str(name)+\".txt\",'w+') as f_target:    #use name counter to name the file\n",
    "                  for data in dataList:\n",
    "                      f_target.write(data)\n",
    "              name+=1\n",
    "              flag = 0\n",
    "              dataList = []\n",
    "                \n",
    "    #process the remaining data which are less than 5000 lines:\n",
    "    with open(target_dir+\"ChildrenBook_\"+str(name)+\".txt\",'w+') as f_target:\n",
    "        for data in dataList:\n",
    "            f_target.write(data)\n",
    " \n",
    "    print(\"Finish spliting!\")\n",
    "    print(datetime.now().strftime('%Y-%m-%d %H:%M:%S'))    #end time\n",
    " \n",
    "if __name__ == \"__main__\":\n",
    "    Main()\n",
    " "
   ]
  }
 ],
 "metadata": {
  "kernelspec": {
   "display_name": "Python 3",
   "language": "python",
   "name": "python3"
  },
  "language_info": {
   "codemirror_mode": {
    "name": "ipython",
    "version": 3
   },
   "file_extension": ".py",
   "mimetype": "text/x-python",
   "name": "python",
   "nbconvert_exporter": "python",
   "pygments_lexer": "ipython3",
   "version": "3.7.1"
  }
 },
 "nbformat": 4,
 "nbformat_minor": 2
}
